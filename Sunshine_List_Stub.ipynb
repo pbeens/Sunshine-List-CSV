{
  "nbformat": 4,
  "nbformat_minor": 0,
  "metadata": {
    "colab": {
      "name": "Sunshine List Stub.ipynb",
      "provenance": [],
      "collapsed_sections": [],
      "authorship_tag": "ABX9TyNKwQ0AdwoGcX0d+HvAw4Bb",
      "include_colab_link": true
    },
    "kernelspec": {
      "name": "python3",
      "display_name": "Python 3"
    },
    "language_info": {
      "name": "python"
    }
  },
  "cells": [
    {
      "cell_type": "markdown",
      "metadata": {
        "id": "view-in-github",
        "colab_type": "text"
      },
      "source": [
        "<a href=\"https://colab.research.google.com/github/pbeens/Sunshine-List-CSV/blob/main/Sunshine_List_Stub.ipynb\" target=\"_parent\"><img src=\"https://colab.research.google.com/assets/colab-badge.svg\" alt=\"Open In Colab\"/></a>"
      ]
    },
    {
      "cell_type": "markdown",
      "metadata": {
        "id": "ctDFymhUX_mL"
      },
      "source": [
        "This is a Jupyter Notebook stub intended to be shared for others to experiment with Ontario's Sunshine list data.\n",
        "\n",
        "This notebook just shows one thing that can done with it. Feel free to copy it and play with the data yourself. \n",
        "\n",
        "Created using Python, Pandas, and Matplotlib."
      ]
    },
    {
      "cell_type": "code",
      "metadata": {
        "colab": {
          "base_uri": "https://localhost:8080/"
        },
        "id": "EBRBrI1gX6dC",
        "outputId": "4ef6078a-d53d-4646-92e3-2c1923090764"
      },
      "source": [
        "!git clone 'https://github.com/pbeens/Sunshine-List-CSV'"
      ],
      "execution_count": 1,
      "outputs": [
        {
          "output_type": "stream",
          "text": [
            "fatal: destination path 'Sunshine-List-CSV' already exists and is not an empty directory.\n"
          ],
          "name": "stdout"
        }
      ]
    },
    {
      "cell_type": "code",
      "metadata": {
        "colab": {
          "base_uri": "https://localhost:8080/"
        },
        "id": "mjx50eJMYpP8",
        "outputId": "9057b6eb-fa8a-4070-e1ac-158d8e1aab28"
      },
      "source": [
        "# This function will return the data path for a given year\n",
        "# Run this cell before using the function elsewhere\n",
        "\n",
        "import os\n",
        "\n",
        "def get_path(year):\n",
        "  path = os.path.join('Sunshine-List-CSV', f'{year}.csv')\n",
        "  return path\n",
        "\n",
        "# example of how to use\n",
        "print(get_path(1996))"
      ],
      "execution_count": 2,
      "outputs": [
        {
          "output_type": "stream",
          "text": [
            "Sunshine-List-CSV/1996.csv\n"
          ],
          "name": "stdout"
        }
      ]
    },
    {
      "cell_type": "code",
      "metadata": {
        "colab": {
          "base_uri": "https://localhost:8080/"
        },
        "id": "RM9D7sZOZD6c",
        "outputId": "ffcccb4b-2041-43df-ca86-e0c0b2e58a1b"
      },
      "source": [
        "# Let's read in a datafile\n",
        "\n",
        "year = 1996\n",
        "\n",
        "with open(get_path(1996), 'r') as f:\n",
        "  data = f.readlines()\n",
        "\n",
        "for line in data[:5]: # first five line\n",
        "  print(line)"
      ],
      "execution_count": 3,
      "outputs": [
        {
          "output_type": "stream",
          "text": [
            "Sector,Last Name,First Name,Salary Paid,Taxable Benefits,Employer,Job Title,Calendar Year\n",
            "\n",
            "OTHER PUBLIC SECTOR EMPLOYERS,Kendall,Perry,194890.40,711.24,Addiction Research Foundation,President & CEO,1996\n",
            "\n",
            "OTHER PUBLIC SECTOR EMPLOYERS,Rehm,Juergen,115603.62,403.41,Addiction Research Foundation,\"Dir., Soc. Eval. Research & Act. Dir., Clin. Research\",1996\n",
            "\n",
            "OTHER PUBLIC SECTOR EMPLOYERS,Room,Robin,149434.48,512.58,Addiction Research Foundation,\"V.P., Research & Coordinator, Intern. Programs\",1996\n",
            "\n",
            "ONTARIO PUBLIC SERVICE,KNOX,KEN W,109382.92,4921.68,\"Agriculture,Food and Rural Affairs\",Deputy Minister,1996\n",
            "\n"
          ],
          "name": "stdout"
        }
      ]
    },
    {
      "cell_type": "code",
      "metadata": {
        "colab": {
          "base_uri": "https://localhost:8080/"
        },
        "id": "5WYSUDqcdIBs",
        "outputId": "44821ceb-e4ae-4276-880b-133205a143e2"
      },
      "source": [
        "import pandas as pd\n",
        "\n",
        "csv_file = get_path(1996)\n",
        "\n",
        "df = pd.read_csv(csv_file)\n",
        "\n",
        "# Let's confirm the first few rows\n",
        "print('First few rows...')\n",
        "print(df.head())\n",
        "\n",
        "# and the columns...\n",
        "print('The columns are...')\n",
        "print(df.columns)"
      ],
      "execution_count": 4,
      "outputs": [
        {
          "output_type": "stream",
          "text": [
            "First few rows...\n",
            "                          Sector  ... Calendar Year\n",
            "0  OTHER PUBLIC SECTOR EMPLOYERS  ...          1996\n",
            "1  OTHER PUBLIC SECTOR EMPLOYERS  ...          1996\n",
            "2  OTHER PUBLIC SECTOR EMPLOYERS  ...          1996\n",
            "3         ONTARIO PUBLIC SERVICE  ...          1996\n",
            "4                      HOSPITALS  ...          1996\n",
            "\n",
            "[5 rows x 8 columns]\n",
            "The columns are...\n",
            "Index(['Sector', 'Last Name', 'First Name', 'Salary Paid', 'Taxable Benefits',\n",
            "       'Employer', 'Job Title', 'Calendar Year'],\n",
            "      dtype='object')\n"
          ],
          "name": "stdout"
        }
      ]
    },
    {
      "cell_type": "code",
      "metadata": {
        "colab": {
          "base_uri": "https://localhost:8080/"
        },
        "id": "_SFahVjtd71Q",
        "outputId": "d000eb90-5447-40ff-9545-6c560e121c67"
      },
      "source": [
        "# Want the salary data?\n",
        "\n",
        "print(df['Salary Paid'])"
      ],
      "execution_count": 5,
      "outputs": [
        {
          "output_type": "stream",
          "text": [
            "0       194890.40\n",
            "1       115603.62\n",
            "2       149434.48\n",
            "3       109382.92\n",
            "4       110309.00\n",
            "          ...    \n",
            "4496    114917.00\n",
            "4497    102744.67\n",
            "4498    121289.04\n",
            "4499    105519.00\n",
            "4500    129037.92\n",
            "Name: Salary Paid, Length: 4501, dtype: float64\n"
          ],
          "name": "stdout"
        }
      ]
    },
    {
      "cell_type": "code",
      "metadata": {
        "colab": {
          "base_uri": "https://localhost:8080/"
        },
        "id": "-yiBEZFTepXT",
        "outputId": "04eb008f-df4a-47bb-e6a6-1828f45babbb"
      },
      "source": [
        "# Want the average salary data?\n",
        "\n",
        "avg_salary = df['Salary Paid'].mean()\n",
        "print(avg_salary)"
      ],
      "execution_count": 6,
      "outputs": [
        {
          "output_type": "stream",
          "text": [
            "121495.17802932656\n"
          ],
          "name": "stdout"
        }
      ]
    },
    {
      "cell_type": "code",
      "metadata": {
        "colab": {
          "base_uri": "https://localhost:8080/"
        },
        "id": "XZtAdCuIkZDp",
        "outputId": "d9b3b632-ee82-4a0c-ba54-f765a7ffb366"
      },
      "source": [
        "# Let's use f-string to print the salary nicely!\n",
        "\n",
        "print(f'${avg_salary:,.2f}')"
      ],
      "execution_count": 7,
      "outputs": [
        {
          "output_type": "stream",
          "text": [
            "$121,495.18\n"
          ],
          "name": "stdout"
        }
      ]
    },
    {
      "cell_type": "code",
      "metadata": {
        "colab": {
          "base_uri": "https://localhost:8080/"
        },
        "id": "zg3JETE_e-iN",
        "outputId": "d2992521-913e-4b4b-e29c-6769b3f166d8"
      },
      "source": [
        "# What are all the sectors? (using 2020 data)\n",
        "\n",
        "import pandas as pd\n",
        "\n",
        "csv_file = get_path(2020)\n",
        "df = pd.read_csv(csv_file)\n",
        "\n",
        "sectors = sorted(list(set(df['Sector'])))\n",
        "\n",
        "print('The sectors are...')\n",
        "for sector in sectors:\n",
        "  print(sector)"
      ],
      "execution_count": 8,
      "outputs": [
        {
          "output_type": "stream",
          "text": [
            "The sectors are...\n",
            "Colleges\n",
            "Crown Agencies\n",
            "Government of Ontario — Judiciary\n",
            "Government of Ontario — Legislative Assembly and Offices\n",
            "Government of Ontario — Ministries\n",
            "Hospitals & Boards of Public Health\n",
            "Municipalities & Services\n",
            "Ontario Power Generation\n",
            "Other Public Sector Employers\n",
            "School Boards\n",
            "Seconded (Attorney General)*\n",
            "Seconded (Children, Community and Social Services)*\n",
            "Seconded (Colleges and Universities)*\n",
            "Seconded (Education)*\n",
            "Seconded (Health)*\n",
            "Seconded (Municipal Affairs and Housing)*\n",
            "Seconded (Solicitor General)*\n",
            "Universities\n"
          ],
          "name": "stdout"
        }
      ]
    },
    {
      "cell_type": "code",
      "metadata": {
        "colab": {
          "base_uri": "https://localhost:8080/",
          "height": 284
        },
        "id": "Nr9TsbV0mYqb",
        "outputId": "49a1e94f-9f81-4fbb-a9a1-6ce567167853"
      },
      "source": [
        "# Let's just get school board data\n",
        "\n",
        "df_schools = df[(df['Sector'] == 'School Boards')]\n",
        "df_schools.head(2)"
      ],
      "execution_count": 9,
      "outputs": [
        {
          "output_type": "execute_result",
          "data": {
            "text/html": [
              "<div>\n",
              "<style scoped>\n",
              "    .dataframe tbody tr th:only-of-type {\n",
              "        vertical-align: middle;\n",
              "    }\n",
              "\n",
              "    .dataframe tbody tr th {\n",
              "        vertical-align: top;\n",
              "    }\n",
              "\n",
              "    .dataframe thead th {\n",
              "        text-align: right;\n",
              "    }\n",
              "</style>\n",
              "<table border=\"1\" class=\"dataframe\">\n",
              "  <thead>\n",
              "    <tr style=\"text-align: right;\">\n",
              "      <th></th>\n",
              "      <th>Sector</th>\n",
              "      <th>Last name</th>\n",
              "      <th>First name</th>\n",
              "      <th>Salary paid</th>\n",
              "      <th>Taxable benefits</th>\n",
              "      <th>Employer</th>\n",
              "      <th>Job title</th>\n",
              "      <th>Calendar year</th>\n",
              "    </tr>\n",
              "  </thead>\n",
              "  <tbody>\n",
              "    <tr>\n",
              "      <th>139645</th>\n",
              "      <td>School Boards</td>\n",
              "      <td>Aalbers</td>\n",
              "      <td>Wilma</td>\n",
              "      <td>106659.95</td>\n",
              "      <td>82.18</td>\n",
              "      <td>Upper Grand District School Board</td>\n",
              "      <td>Secondary Librarian</td>\n",
              "      <td>2020</td>\n",
              "    </tr>\n",
              "    <tr>\n",
              "      <th>139646</th>\n",
              "      <td>School Boards</td>\n",
              "      <td>Aaron</td>\n",
              "      <td>Ian</td>\n",
              "      <td>101791.44</td>\n",
              "      <td>82.46</td>\n",
              "      <td>Toronto Catholic District School Board</td>\n",
              "      <td>Teacher — Elementary</td>\n",
              "      <td>2020</td>\n",
              "    </tr>\n",
              "  </tbody>\n",
              "</table>\n",
              "</div>"
            ],
            "text/plain": [
              "               Sector Last name  ...             Job title  Calendar year\n",
              "139645  School Boards   Aalbers  ...   Secondary Librarian           2020\n",
              "139646  School Boards     Aaron  ...  Teacher — Elementary           2020\n",
              "\n",
              "[2 rows x 8 columns]"
            ]
          },
          "metadata": {
            "tags": []
          },
          "execution_count": 9
        }
      ]
    },
    {
      "cell_type": "code",
      "metadata": {
        "colab": {
          "base_uri": "https://localhost:8080/"
        },
        "id": "tO28PYrjoMHt",
        "outputId": "426e4466-e46e-4b81-8530-d8b14356c673"
      },
      "source": [
        "# School board average salary\n",
        "\n",
        "avg_salary = df_schools['Salary paid'].mean()\n",
        "print(f'${avg_salary:,.2f}')"
      ],
      "execution_count": 10,
      "outputs": [
        {
          "output_type": "stream",
          "text": [
            "$109,083.82\n"
          ],
          "name": "stdout"
        }
      ]
    },
    {
      "cell_type": "code",
      "metadata": {
        "colab": {
          "base_uri": "https://localhost:8080/"
        },
        "id": "kXfP5Tzro9Uw",
        "outputId": "64fcb994-f19b-4651-9568-df8e45c29945"
      },
      "source": [
        "# What about the averages of each sector?\n",
        "\n",
        "def avg_salary(sector):\n",
        "  df_temp = df[(df['Sector'] == sector)]\n",
        "  return df_temp['Salary paid'].mean()\n",
        "\n",
        "for sector in sectors:\n",
        "  avg_sal = avg_salary(sector)\n",
        "  print(f'{sector}: ${avg_sal:,.2f}')"
      ],
      "execution_count": 11,
      "outputs": [
        {
          "output_type": "stream",
          "text": [
            "Colleges: $119,183.90\n",
            "Crown Agencies: $131,764.83\n",
            "Government of Ontario — Judiciary: $234,174.77\n",
            "Government of Ontario — Legislative Assembly and Offices: $138,737.85\n",
            "Government of Ontario — Ministries: $128,670.59\n",
            "Hospitals & Boards of Public Health: $120,083.35\n",
            "Municipalities & Services: $123,291.46\n",
            "Ontario Power Generation: $152,705.55\n",
            "Other Public Sector Employers: $132,148.99\n",
            "School Boards: $109,083.82\n",
            "Seconded (Attorney General)*: $128,732.67\n",
            "Seconded (Children, Community and Social Services)*: $119,933.23\n",
            "Seconded (Colleges and Universities)*: $224,825.46\n",
            "Seconded (Education)*: $115,888.45\n",
            "Seconded (Health)*: $180,109.31\n",
            "Seconded (Municipal Affairs and Housing)*: $123,157.13\n",
            "Seconded (Solicitor General)*: $127,763.62\n",
            "Universities: $156,238.11\n"
          ],
          "name": "stdout"
        }
      ]
    },
    {
      "cell_type": "code",
      "metadata": {
        "colab": {
          "base_uri": "https://localhost:8080/",
          "height": 250
        },
        "id": "a9HY0e7PqDI7",
        "outputId": "bd18bb87-4ace-4208-f1d5-4c49fdc1f247"
      },
      "source": [
        "# plotting the results\n",
        "\n",
        "import matplotlib.pyplot as plt\n",
        "\n",
        "sorted_sectors = []\n",
        "avg_salaries = []\n",
        "\n",
        "for sector in sorted(sectors, reverse=True):\n",
        "  sorted_sectors.append(sector)\n",
        "  avg_salaries.append(avg_salary(sector))\n",
        "\n",
        "\n",
        "plt.figure(figsize=(12,6))\n",
        "plt.title('Sunshine List Average Salaries by Sector')\n",
        "plt.barh(sorted_sectors, avg_salaries)\n",
        "plt.xlim([50E3,250E3])\n",
        "plt.savefig('Sunshine List Avg Salaries by Sector.png', bbox_inches='tight')\n",
        "plt.show()\n",
        "\n",
        "\n"
      ],
      "execution_count": 12,
      "outputs": [
        {
          "output_type": "display_data",
          "data": {
            "image/png": "[encoded data removed]",
            "text/plain": [
              "<Figure size 864x432 with 1 Axes>"
            ]
          },
          "metadata": {
            "tags": [],
            "needs_background": "light"
          }
        }
      ]
    }
  ]
}